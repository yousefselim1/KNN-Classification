{
  "nbformat": 4,
  "nbformat_minor": 0,
  "metadata": {
    "colab": {
      "provenance": []
    },
    "kernelspec": {
      "name": "python3",
      "display_name": "Python 3"
    },
    "language_info": {
      "name": "python"
    }
  },
  "cells": [
    {
      "cell_type": "code",
      "execution_count": 1,
      "metadata": {
        "colab": {
          "base_uri": "https://localhost:8080/",
          "height": 0
        },
        "id": "oKj_By_qNZYu",
        "outputId": "593b4380-ffff-47f0-a881-d376eed303e1"
      },
      "outputs": [
        {
          "output_type": "stream",
          "name": "stdout",
          "text": [
            "1.4.1.post1\n"
          ]
        }
      ],
      "source": [
        "import pandas as pd\n",
        "import numpy as np\n",
        "import seaborn as sns\n",
        "import matplotlib.pyplot as plt\n",
        "import sklearn\n",
        "import sklearn\n",
        "print(sklearn.__version__)\n",
        "\n",
        "\n",
        "from collections import Counter\n",
        "\n",
        "from sklearn.metrics import accuracy_score"
      ]
    },
    {
      "cell_type": "code",
      "source": [
        "!pip install -U scikit-learn"
      ],
      "metadata": {
        "colab": {
          "base_uri": "https://localhost:8080/",
          "height": 0
        },
        "id": "6EGk0L8INhku",
        "outputId": "3ef44f9c-eef4-479a-b32a-abbf1f5aef33"
      },
      "execution_count": 2,
      "outputs": [
        {
          "output_type": "stream",
          "name": "stdout",
          "text": [
            "Requirement already satisfied: scikit-learn in /usr/local/lib/python3.10/dist-packages (1.4.1.post1)\n",
            "Requirement already satisfied: numpy<2.0,>=1.19.5 in /usr/local/lib/python3.10/dist-packages (from scikit-learn) (1.25.2)\n",
            "Requirement already satisfied: scipy>=1.6.0 in /usr/local/lib/python3.10/dist-packages (from scikit-learn) (1.11.4)\n",
            "Requirement already satisfied: joblib>=1.2.0 in /usr/local/lib/python3.10/dist-packages (from scikit-learn) (1.3.2)\n",
            "Requirement already satisfied: threadpoolctl>=2.0.0 in /usr/local/lib/python3.10/dist-packages (from scikit-learn) (3.3.0)\n"
          ]
        }
      ]
    },
    {
      "cell_type": "code",
      "source": [
        "# import iris dataset\n",
        "from sklearn import datasets\n",
        "\n",
        "iris = datasets.load_iris()\n",
        "\n",
        "print(type(iris))\n",
        "\n",
        "# use the numpy concatenate function\n",
        "iris_df = pd.DataFrame(data=np.column_stack((iris.data, iris.target)), columns=iris.feature_names + ['target'])\n"
      ],
      "metadata": {
        "colab": {
          "base_uri": "https://localhost:8080/",
          "height": 0
        },
        "id": "fV9RYsQPNkag",
        "outputId": "2cc10865-b2bd-4392-d1f9-998374f19534"
      },
      "execution_count": 3,
      "outputs": [
        {
          "output_type": "stream",
          "name": "stdout",
          "text": [
            "<class 'sklearn.utils._bunch.Bunch'>\n"
          ]
        }
      ]
    },
    {
      "cell_type": "code",
      "source": [
        "#check the samples for each class / is it balanced dataset\n",
        "unique, counts = np.unique(iris.target, return_counts=True)\n",
        "\n",
        "\n",
        "plt.bar(iris.target_names, counts, color=['red', 'green', 'blue'])\n",
        "plt.title('Classes on dataset')\n",
        "plt.xlabel('Class')\n",
        "plt.ylabel('Number of samples')\n",
        "plt.show()"
      ],
      "metadata": {
        "colab": {
          "base_uri": "https://localhost:8080/",
          "height": 472
        },
        "id": "Ef942yajNujf",
        "outputId": "6df2ab80-1181-47ad-cdf1-ef585f969736"
      },
      "execution_count": 4,
      "outputs": [
        {
          "output_type": "display_data",
          "data": {
            "text/plain": [
              "<Figure size 640x480 with 1 Axes>"
            ],
            "image/png": "[encoded data removed]"
          },
          "metadata": {}
        }
      ]
    },
    {
      "cell_type": "code",
      "source": [
        "#check for missing data\n",
        "missing_values = iris_df.isnull().sum()\n",
        "missing_values"
      ],
      "metadata": {
        "colab": {
          "base_uri": "https://localhost:8080/",
          "height": 0
        },
        "id": "Ss4zcSfGNxne",
        "outputId": "62bcb6b8-a4b1-4bb8-d282-d65a78ebf0fd"
      },
      "execution_count": 5,
      "outputs": [
        {
          "output_type": "execute_result",
          "data": {
            "text/plain": [
              "sepal length (cm)    0\n",
              "sepal width (cm)     0\n",
              "petal length (cm)    0\n",
              "petal width (cm)     0\n",
              "target               0\n",
              "dtype: int64"
            ]
          },
          "metadata": {},
          "execution_count": 5
        }
      ]
    },
    {
      "cell_type": "code",
      "source": [
        "#check duplicates\n",
        "duplicate_count = iris_df.duplicated().sum()\n",
        "duplicate_count"
      ],
      "metadata": {
        "colab": {
          "base_uri": "https://localhost:8080/",
          "height": 0
        },
        "id": "bpPy7yh_N0TZ",
        "outputId": "87bd522f-631d-4e0d-eb6e-2640be8c2d05"
      },
      "execution_count": 6,
      "outputs": [
        {
          "output_type": "execute_result",
          "data": {
            "text/plain": [
              "1"
            ]
          },
          "metadata": {},
          "execution_count": 6
        }
      ]
    },
    {
      "cell_type": "code",
      "source": [
        "#drop duplicates\n",
        "iris_df = iris_df.drop_duplicates()\n",
        "#test after remove the duplicates\n",
        "remaining_duplicates = iris_df.duplicated().sum()\n",
        "remaining_duplicates"
      ],
      "metadata": {
        "colab": {
          "base_uri": "https://localhost:8080/",
          "height": 0
        },
        "id": "hhqsfzjhN254",
        "outputId": "b498d992-8833-4e82-e1b5-53eeaa14f4b2"
      },
      "execution_count": 7,
      "outputs": [
        {
          "output_type": "execute_result",
          "data": {
            "text/plain": [
              "0"
            ]
          },
          "metadata": {},
          "execution_count": 7
        }
      ]
    },
    {
      "cell_type": "code",
      "source": [
        "##select all rows and all columns except the last one.\n",
        "X = iris_df.iloc[:, :-1]\n",
        "\n",
        "##select all rows, but only the last column.\n",
        "y = iris_df.iloc[:, -1]"
      ],
      "metadata": {
        "id": "1jN-K1b-N4_k"
      },
      "execution_count": 8,
      "outputs": []
    },
    {
      "cell_type": "code",
      "source": [
        "#split the data into train and test sets (80,20):\n",
        "#Shuffle=True, meaning the data will be shuffled before splitting.\n",
        "\n",
        "from sklearn.model_selection import train_test_split\n",
        "X_train, X_test, y_train, y_test = train_test_split(X, y, test_size=0.2, shuffle=True )\n",
        "\n",
        "X_train = np.asarray(X_train)\n",
        "y_train = np.asarray(y_train)\n",
        "\n",
        "X_test = np.asarray(X_test)\n",
        "y_test = np.asarray(y_test)\n"
      ],
      "metadata": {
        "id": "oGMsCUkKN687"
      },
      "execution_count": 26,
      "outputs": []
    },
    {
      "cell_type": "code",
      "source": [
        "#check the traing set size and test set size:\n",
        "\n",
        "print(X_train.shape)\n",
        "\n",
        "print(y_test.shape)"
      ],
      "metadata": {
        "colab": {
          "base_uri": "https://localhost:8080/",
          "height": 0
        },
        "id": "_6GYXO12OBMd",
        "outputId": "ba546d4d-1d8b-4ce2-bbf9-615c0ec3eaa5"
      },
      "execution_count": 10,
      "outputs": [
        {
          "output_type": "stream",
          "name": "stdout",
          "text": [
            "(119, 4)\n",
            "(30,)\n"
          ]
        }
      ]
    },
    {
      "cell_type": "code",
      "source": [
        "import numpy as np\n",
        "\n",
        "# Calculate minimum and maximum values for each feature in the training set\n",
        "X_train_min = X_train.min(axis=0)\n",
        "X_train_max = X_train.max(axis=0)\n",
        "\n",
        "# Calculate minimum and maximum values for each feature in the test set\n",
        "X_test_min = X_test.min(axis=0)\n",
        "X_test_max = X_test.max(axis=0)\n",
        "\n",
        "# Initialize lists to store normalized values\n",
        "X_train_normalized = []\n",
        "X_test_normalized = []\n",
        "\n",
        "# Normalize the training set\n",
        "for i in range(len(X_train)):\n",
        "    x = (X_train[i] - X_train_min) / (X_train_max - X_train_min)\n",
        "    X_train_normalized.append(x)\n",
        "\n",
        "# Normalize the test set using the same normalization parameters as the training set\n",
        "for i in range(len(X_test)):\n",
        "    x = (X_test[i] - X_test_min) / (X_test_max - X_test_min)\n",
        "    X_test_normalized.append(x)\n",
        "\n",
        "# Convert the lists to NumPy arrays\n",
        "X_train_normalized = np.asarray(X_train_normalized)\n",
        "X_test_normalized = np.asarray(X_test_normalized)\n",
        "\n",
        "# Print the normalized training and test sets\n",
        "print(\"Normalized training set:\")\n",
        "print(X_train_normalized)\n",
        "print(\"\\nNormalized test set:\")\n",
        "print(X_test_normalized)"
      ],
      "metadata": {
        "colab": {
          "base_uri": "https://localhost:8080/",
          "height": 0
        },
        "id": "PmI-ZbKnODHF",
        "outputId": "d0b22126-8178-4412-ac3a-729050755397"
      },
      "execution_count": 11,
      "outputs": [
        {
          "output_type": "stream",
          "name": "stdout",
          "text": [
            "Normalized training set:\n",
            "[[0.17647059 0.41666667 0.06779661 0.04166667]\n",
            " [1.         0.25       1.         0.91666667]\n",
            " [0.26470588 0.875      0.08474576 0.        ]\n",
            " [0.58823529 0.58333333 0.77966102 0.95833333]\n",
            " [0.58823529 0.29166667 0.66101695 0.70833333]\n",
            " [0.35294118 0.125      0.50847458 0.5       ]\n",
            " [0.52941176 0.33333333 0.50847458 0.5       ]\n",
            " [0.38235294 0.33333333 0.66101695 0.79166667]\n",
            " [0.23529412 0.70833333 0.08474576 0.125     ]\n",
            " [0.08823529 0.66666667 0.         0.04166667]\n",
            " [0.64705882 0.41666667 0.76271186 0.70833333]\n",
            " [0.5        0.08333333 0.6779661  0.58333333]\n",
            " [0.58823529 0.20833333 0.6779661  0.75      ]\n",
            " [0.70588235 0.45833333 0.62711864 0.58333333]\n",
            " [0.73529412 0.33333333 0.6440678  0.54166667]\n",
            " [0.14705882 0.58333333 0.15254237 0.04166667]\n",
            " [0.29411765 0.70833333 0.08474576 0.04166667]\n",
            " [0.17647059 0.20833333 0.59322034 0.66666667]\n",
            " [0.5        0.41666667 0.6440678  0.70833333]\n",
            " [0.61764706 0.29166667 0.72881356 0.75      ]\n",
            " [0.47058824 0.5        0.6440678  0.70833333]\n",
            " [0.97058824 0.41666667 0.94915254 0.83333333]\n",
            " [0.38235294 0.41666667 0.52542373 0.5       ]\n",
            " [0.26470588 0.625      0.08474576 0.04166667]\n",
            " [0.5        0.08333333 0.50847458 0.375     ]\n",
            " [0.61764706 0.33333333 0.77966102 0.83333333]\n",
            " [0.70588235 0.45833333 0.57627119 0.54166667]\n",
            " [0.26470588 0.58333333 0.06779661 0.04166667]\n",
            " [0.23529412 0.625      0.06779661 0.04166667]\n",
            " [0.70588235 0.20833333 0.81355932 0.70833333]\n",
            " [0.38235294 0.20833333 0.49152542 0.41666667]\n",
            " [0.47058824 0.41666667 0.69491525 0.70833333]\n",
            " [0.17647059 0.45833333 0.08474576 0.04166667]\n",
            " [0.64705882 0.41666667 0.71186441 0.79166667]\n",
            " [0.38235294 0.375      0.44067797 0.5       ]\n",
            " [0.35294118 0.16666667 0.47457627 0.41666667]\n",
            " [0.85294118 0.41666667 0.81355932 0.625     ]\n",
            " [0.85294118 0.66666667 0.86440678 1.        ]\n",
            " [0.20588235 0.625      0.10169492 0.20833333]\n",
            " [0.20588235 0.41666667 0.10169492 0.04166667]\n",
            " [0.85294118 0.5        0.84745763 0.70833333]\n",
            " [0.14705882 0.58333333 0.10169492 0.04166667]\n",
            " [0.02941176 0.375      0.06779661 0.04166667]\n",
            " [0.73529412 0.5        0.83050847 0.91666667]\n",
            " [0.58823529 0.125      0.57627119 0.5       ]\n",
            " [0.05882353 0.125      0.05084746 0.08333333]\n",
            " [0.         0.41666667 0.01694915 0.        ]\n",
            " [0.08823529 0.5        0.06779661 0.04166667]\n",
            " [0.35294118 0.20833333 0.50847458 0.5       ]\n",
            " [0.58823529 0.54166667 0.62711864 0.625     ]\n",
            " [0.67647059 0.41666667 0.57627119 0.54166667]\n",
            " [0.5        0.29166667 0.69491525 0.625     ]\n",
            " [0.02941176 0.5        0.05084746 0.04166667]\n",
            " [0.41176471 1.         0.08474576 0.125     ]\n",
            " [0.14705882 0.41666667 0.06779661 0.        ]\n",
            " [0.20588235 0.58333333 0.10169492 0.125     ]\n",
            " [0.61764706 0.375      0.55932203 0.5       ]\n",
            " [0.64705882 0.33333333 0.61016949 0.58333333]\n",
            " [0.20588235 0.125      0.38983051 0.375     ]\n",
            " [0.41176471 0.41666667 0.54237288 0.45833333]\n",
            " [0.02941176 0.41666667 0.05084746 0.04166667]\n",
            " [0.44117647 0.83333333 0.03389831 0.04166667]\n",
            " [0.20588235 0.54166667 0.06779661 0.04166667]\n",
            " [0.23529412 0.58333333 0.08474576 0.04166667]\n",
            " [0.14705882 0.45833333 0.10169492 0.04166667]\n",
            " [0.82352941 0.41666667 0.83050847 0.83333333]\n",
            " [0.91176471 0.33333333 0.86440678 0.75      ]\n",
            " [0.44117647 0.29166667 0.52542373 0.375     ]\n",
            " [0.79411765 0.5        0.62711864 0.54166667]\n",
            " [0.20588235 0.58333333 0.08474576 0.04166667]\n",
            " [0.64705882 0.5        0.69491525 0.79166667]\n",
            " [0.08823529 0.45833333 0.08474576 0.04166667]\n",
            " [0.32352941 0.79166667 0.11864407 0.125     ]\n",
            " [0.17647059 0.66666667 0.06779661 0.        ]\n",
            " [1.         0.41666667 0.86440678 0.91666667]\n",
            " [0.52941176 0.41666667 0.61016949 0.54166667]\n",
            " [0.76470588 0.45833333 0.74576271 0.83333333]\n",
            " [0.61764706 0.5        0.72881356 0.91666667]\n",
            " [0.17647059 0.16666667 0.38983051 0.375     ]\n",
            " [0.41176471 0.375      0.54237288 0.5       ]\n",
            " [0.38235294 0.41666667 0.59322034 0.58333333]\n",
            " [0.32352941 0.79166667 0.05084746 0.125     ]\n",
            " [0.17647059 0.45833333 0.08474576 0.        ]\n",
            " [0.41176471 0.33333333 0.52542373 0.5       ]\n",
            " [0.23529412 0.20833333 0.33898305 0.41666667]\n",
            " [0.41176471 0.33333333 0.59322034 0.5       ]\n",
            " [0.32352941 0.70833333 0.08474576 0.04166667]\n",
            " [0.38235294 0.29166667 0.54237288 0.5       ]\n",
            " [0.76470588 0.45833333 0.66101695 0.58333333]\n",
            " [0.52941176 0.375      0.62711864 0.54166667]\n",
            " [0.44117647 0.29166667 0.69491525 0.75      ]\n",
            " [0.14705882 0.41666667 0.06779661 0.08333333]\n",
            " [0.32352941 0.58333333 0.11864407 0.04166667]\n",
            " [0.88235294 0.375      0.89830508 0.70833333]\n",
            " [0.08823529 0.58333333 0.06779661 0.08333333]\n",
            " [0.52941176 0.41666667 0.66101695 0.70833333]\n",
            " [0.35294118 0.91666667 0.06779661 0.04166667]\n",
            " [0.70588235 0.41666667 0.6779661  0.66666667]\n",
            " [0.76470588 0.5        0.79661017 0.91666667]\n",
            " [0.32352941 0.58333333 0.08474576 0.125     ]\n",
            " [0.67647059 0.375      0.61016949 0.5       ]\n",
            " [0.20588235 0.         0.42372881 0.375     ]\n",
            " [0.20588235 0.66666667 0.06779661 0.04166667]\n",
            " [0.47058824 0.41666667 0.54237288 0.58333333]\n",
            " [0.20588235 0.625      0.05084746 0.08333333]\n",
            " [0.58823529 0.20833333 0.66101695 0.58333333]\n",
            " [0.41176471 0.25       0.42372881 0.375     ]\n",
            " [0.44117647 0.25       0.50847458 0.45833333]\n",
            " [0.58823529 0.54166667 0.84745763 1.        ]\n",
            " [0.26470588 0.29166667 0.49152542 0.54166667]\n",
            " [0.52941176 0.25       0.77966102 0.54166667]\n",
            " [0.44117647 0.29166667 0.49152542 0.45833333]\n",
            " [0.55882353 0.58333333 0.74576271 0.91666667]\n",
            " [0.35294118 0.625      0.05084746 0.04166667]\n",
            " [0.70588235 0.54166667 0.79661017 0.83333333]\n",
            " [0.55882353 0.33333333 0.6440678  0.70833333]\n",
            " [0.58823529 0.33333333 0.69491525 0.58333333]\n",
            " [0.70588235 0.45833333 0.77966102 0.95833333]\n",
            " [0.44117647 0.33333333 0.69491525 0.95833333]]\n",
            "\n",
            "Normalized test set:\n",
            "[[0.125      1.         0.12727273 0.08695652]\n",
            " [0.3125     0.1875     0.69090909 0.7826087 ]\n",
            " [0.40625    0.4375     0.6        0.56521739]\n",
            " [0.625      0.5        0.72727273 0.91304348]\n",
            " [0.09375    0.625      0.         0.        ]\n",
            " [0.40625    0.75       0.6        0.60869565]\n",
            " [0.125      0.6875     0.09090909 0.13043478]\n",
            " [0.53125    0.375      0.8        0.86956522]\n",
            " [0.25       0.25       0.58181818 0.43478261]\n",
            " [0.         0.625      0.01818182 0.        ]\n",
            " [0.53125    0.625      0.6        0.56521739]\n",
            " [0.25       0.125      0.45454545 0.34782609]\n",
            " [0.5        0.4375     0.8        0.69565217]\n",
            " [0.5625     0.5        0.83636364 0.86956522]\n",
            " [0.625      0.6875     0.81818182 1.        ]\n",
            " [0.9375     0.375      1.         0.7826087 ]\n",
            " [0.46875    0.4375     0.56363636 0.47826087]\n",
            " [1.         1.         0.94545455 0.7826087 ]\n",
            " [0.125      0.8125     0.03636364 0.04347826]\n",
            " [0.125      1.         0.05454545 0.04347826]\n",
            " [0.21875    0.5        0.6        0.56521739]\n",
            " [0.9375     1.         1.         0.86956522]\n",
            " [0.46875    0.         0.6        0.56521739]\n",
            " [0.6875     0.5625     0.70909091 0.91304348]\n",
            " [0.53125    0.5625     0.78181818 0.69565217]\n",
            " [0.         0.625      0.07272727 0.        ]\n",
            " [0.4375     0.375      0.63636364 0.43478261]\n",
            " [0.125      1.         0.07272727 0.        ]\n",
            " [0.65625    0.5        0.78181818 0.82608696]\n",
            " [0.3125     1.         0.09090909 0.04347826]]\n"
          ]
        }
      ]
    },
    {
      "cell_type": "code",
      "source": [
        "print(\"X train before Normalization\")\n",
        "print(X_train[0:5])\n",
        "print(\"\\nX train after Normalization\")\n",
        "print(X_train_normalized[0:5])"
      ],
      "metadata": {
        "colab": {
          "base_uri": "https://localhost:8080/",
          "height": 0
        },
        "id": "Zr3tUK8bP7pP",
        "outputId": "fa38cdac-a699-4540-c90c-de8d550e945b"
      },
      "execution_count": 12,
      "outputs": [
        {
          "output_type": "stream",
          "name": "stdout",
          "text": [
            "X train before Normalization\n",
            "[[4.9 3.  1.4 0.2]\n",
            " [7.7 2.6 6.9 2.3]\n",
            " [5.2 4.1 1.5 0.1]\n",
            " [6.3 3.4 5.6 2.4]\n",
            " [6.3 2.7 4.9 1.8]]\n",
            "\n",
            "X train after Normalization\n",
            "[[0.17647059 0.41666667 0.06779661 0.04166667]\n",
            " [1.         0.25       1.         0.91666667]\n",
            " [0.26470588 0.875      0.08474576 0.        ]\n",
            " [0.58823529 0.58333333 0.77966102 0.95833333]\n",
            " [0.58823529 0.29166667 0.66101695 0.70833333]]\n"
          ]
        }
      ]
    },
    {
      "cell_type": "code",
      "source": [],
      "metadata": {
        "id": "sfjRWejwQAl9"
      },
      "execution_count": null,
      "outputs": []
    },
    {
      "cell_type": "code",
      "source": [],
      "metadata": {
        "id": "CN_DUwGdQFBW"
      },
      "execution_count": null,
      "outputs": []
    },
    {
      "cell_type": "code",
      "source": [],
      "metadata": {
        "id": "MVf8KJfUQeeC"
      },
      "execution_count": null,
      "outputs": []
    },
    {
      "cell_type": "code",
      "source": [
        "\\"
      ],
      "metadata": {
        "id": "Dh_H9cb9Qnmn"
      },
      "execution_count": null,
      "outputs": []
    },
    {
      "cell_type": "code",
      "source": [
        "def distance_ecu(X_train, X_test_point):\n",
        "    \"\"\"\n",
        "    Input:\n",
        "        - X_train : The training data\n",
        "        - X_test_point : The test point\n",
        "\n",
        "    Output:\n",
        "        - distances : The distances between the test point and each point in the training data.\n",
        "    \"\"\"\n",
        "    distances = []\n",
        "\n",
        "    for train_point in X_train:\n",
        "        # Calculate the Euclidean distance between the test point and each training point\n",
        "        distance = np.sqrt(np.sum((train_point - X_test_point) ** 2))\n",
        "        distances.append(distance)\n",
        "\n",
        "    distances = pd.DataFrame(data=distances, columns=['distance'])\n",
        "    return distances\n"
      ],
      "metadata": {
        "id": "2YFoDHNWQrKd"
      },
      "execution_count": 17,
      "outputs": []
    },
    {
      "cell_type": "code",
      "source": [
        "def nearest_neighbors(distances, K):\n",
        "    \"\"\"\n",
        "    Input:\n",
        "        - distances : The distances between the test point and each point in the training data.\n",
        "        - K : The number of neighbors\n",
        "\n",
        "    Output:\n",
        "        - df_nearest : The nearest K neighbors between the test point and the training data\n",
        "    \"\"\"\n",
        "    # Sort distances using the sort_values function\n",
        "    df_nearest = distances.sort_values(by='distance')\n",
        "\n",
        "    # Take only the first K neighbors\n",
        "    df_nearest = df_nearest[:K]\n",
        "\n",
        "    return df_nearest"
      ],
      "metadata": {
        "id": "jG5YC8rwQwor"
      },
      "execution_count": 18,
      "outputs": []
    },
    {
      "cell_type": "code",
      "source": [
        "def voting(df_nearest, y_train):\n",
        "    \"\"\"\n",
        "    Input:\n",
        "        - df_nearest: DataFrame containing the nearest K neighbors between the full training dataset and the test point\n",
        "        - y_train : The labels of the training dataset\n",
        "\n",
        "    Output:\n",
        "        - y_pred : The prediction based on Majority Voting\n",
        "    \"\"\"\n",
        "    # Use the Counter Object to get the labels with K nearest neighbors\n",
        "    counter_vote = Counter(y_train[df_nearest.index])\n",
        "\n",
        "    # Majority Voting\n",
        "    y_pred = counter_vote.most_common(1)[0][0]\n",
        "\n",
        "    return y_pred"
      ],
      "metadata": {
        "id": "JMAHTTDbQ1SO"
      },
      "execution_count": 19,
      "outputs": []
    },
    {
      "cell_type": "code",
      "source": [
        "\n",
        "def KNN_from_scratch(X_train_normalized, X_test_normalized, y_train, K):\n",
        "    \"\"\"\n",
        "    Input:\n",
        "        - X_train_normalized: The normalized full training dataset\n",
        "        - X_test_normalized: The normalized full test dataset\n",
        "        - y_train : The labels of the training dataset\n",
        "        - K : The number of neighbors\n",
        "\n",
        "    Output:\n",
        "        - y_pred : The prediction for the whole test set based on Majority Voting\n",
        "    \"\"\"\n",
        "    y_pred = []\n",
        "\n",
        "    # Loop over all the test set and perform the three steps\n",
        "    for test_point in X_test_normalized:\n",
        "        # Step 1\n",
        "        distance_point = distance_ecu(X_train_normalized , test_point)\n",
        "\n",
        "        # Step 2\n",
        "        df_nearest_point = nearest_neighbors(distance_point, K)\n",
        "\n",
        "        # Step 3\n",
        "        y_pred_point = voting(df_nearest_point, y_train)\n",
        "\n",
        "        # Append the prediction for the current test point to y_pred\n",
        "        y_pred.append(y_pred_point)\n",
        "\n",
        "    return y_pred"
      ],
      "metadata": {
        "id": "qfiMS_BZQ5bF"
      },
      "execution_count": 20,
      "outputs": []
    },
    {
      "cell_type": "code",
      "source": [
        "K = 3\n",
        "y_pred_scratch =KNN_from_scratch(X_train_normalized,X_test_normalized,y_train,K)\n",
        "\n",
        "print(y_pred_scratch)"
      ],
      "metadata": {
        "colab": {
          "base_uri": "https://localhost:8080/",
          "height": 0
        },
        "id": "Eo1yMy0-Q9Pu",
        "outputId": "4ec28aed-9c06-4b62-d54c-91d92990c465"
      },
      "execution_count": 21,
      "outputs": [
        {
          "output_type": "stream",
          "name": "stdout",
          "text": [
            "[0.0, 2.0, 1.0, 2.0, 0.0, 1.0, 0.0, 2.0, 1.0, 0.0, 1.0, 1.0, 2.0, 2.0, 2.0, 2.0, 1.0, 2.0, 0.0, 0.0, 1.0, 2.0, 1.0, 2.0, 1.0, 0.0, 1.0, 0.0, 2.0, 0.0]\n"
          ]
        }
      ]
    },
    {
      "cell_type": "code",
      "source": [
        "from sklearn.neighbors import KNeighborsClassifier\n",
        "\n",
        "# Assuming you have your training data X_train and corresponding labels y_train\n",
        "# Assuming you have your test data X_test\n",
        "# Assuming you have your ground truth labels for test data y_test\n",
        "\n",
        "# Initialize kNN classifier\n",
        "  # You can set the number of neighbors as per your choice\n",
        "\n",
        "knn = KNeighborsClassifier(n_neighbors=3)\n",
        "knn.fit(X_train_normalized, y_train)\n",
        "# Fit the classifier to the training data\n",
        "\n",
        "knn\n",
        "# Predict the labels for the test data\n",
        "y_pred_sklearn = knn.predict(X_test_normalized)\n",
        "y_pred_sklearn\n",
        "# Calculate accuracy\n",
        "# accuracy = accuracy_score(y_test, y_pred_sklearn)\n",
        "# print(\"Accuracy:\", accuracy)"
      ],
      "metadata": {
        "colab": {
          "base_uri": "https://localhost:8080/",
          "height": 0
        },
        "id": "on5aesJ0Q_7O",
        "outputId": "0703fe5c-f93d-4f2d-8154-d0e2364849c2"
      },
      "execution_count": 22,
      "outputs": [
        {
          "output_type": "execute_result",
          "data": {
            "text/plain": [
              "array([0., 2., 1., 2., 0., 1., 0., 2., 1., 0., 1., 1., 2., 2., 2., 2., 1.,\n",
              "       2., 0., 0., 1., 2., 1., 2., 1., 0., 1., 0., 2., 0.])"
            ]
          },
          "metadata": {},
          "execution_count": 22
        }
      ]
    },
    {
      "cell_type": "code",
      "source": [
        "same=0\n",
        "for i in range(len(y_pred_sklearn)):\n",
        "  if y_pred_sklearn[i]==y_pred_scratch[i]:\n",
        "    same+=1\n",
        "print(\"accuracy is:\",(same/len(y_pred_sklearn))*100)"
      ],
      "metadata": {
        "colab": {
          "base_uri": "https://localhost:8080/",
          "height": 0
        },
        "id": "QhBYisYvRB3b",
        "outputId": "c7073789-9bd8-4dbb-de85-d1294499851b"
      },
      "execution_count": 23,
      "outputs": [
        {
          "output_type": "stream",
          "name": "stdout",
          "text": [
            "accuracy is: 100.0\n"
          ]
        }
      ]
    },
    {
      "cell_type": "code",
      "source": [
        "K = 5\n",
        "y_pred_scratch =KNN_from_scratch(X_train_normalized,X_test_normalized,y_train,K)\n",
        "\n",
        "print(y_pred_scratch)"
      ],
      "metadata": {
        "colab": {
          "base_uri": "https://localhost:8080/"
        },
        "id": "LfOdRhlARD7I",
        "outputId": "ff3171de-c8bc-4784-f229-9f19efd57f78"
      },
      "execution_count": 30,
      "outputs": [
        {
          "output_type": "stream",
          "name": "stdout",
          "text": [
            "[1.0, 0.0, 1.0, 2.0, 0.0, 1.0, 2.0, 1.0, 0.0, 0.0, 1.0, 0.0, 2.0, 2.0, 2.0, 1.0, 1.0, 1.0, 0.0, 1.0, 1.0, 2.0, 1.0, 2.0, 1.0, 0.0, 1.0, 1.0, 2.0, 2.0]\n"
          ]
        }
      ]
    },
    {
      "cell_type": "code",
      "source": [
        "from sklearn.neighbors import KNeighborsClassifier\n",
        "\n",
        "# Assuming you have your training data X_train and corresponding labels y_train\n",
        "# Assuming you have your test data X_test\n",
        "# Assuming you have your ground truth labels for test data y_test\n",
        "\n",
        "# Initialize kNN classifier\n",
        "  # You can set the number of neighbors as per your choice\n",
        "\n",
        "knn = KNeighborsClassifier(n_neighbors=5)\n",
        "knn.fit(X_train_normalized, y_train)\n",
        "# Fit the classifier to the training data\n",
        "\n",
        "knn\n",
        "# Predict the labels for the test data\n",
        "y_pred_sklearn = knn.predict(X_test_normalized)\n",
        "y_pred_sklearn\n",
        "# Calculate accuracy\n",
        "# accuracy = accuracy_score(y_test, y_pred_sklearn)\n",
        "# print(\"Accuracy:\", accuracy)"
      ],
      "metadata": {
        "colab": {
          "base_uri": "https://localhost:8080/"
        },
        "id": "WMXfUckmSwQJ",
        "outputId": "bda091b7-8883-42bf-b19c-781b9e197898"
      },
      "execution_count": 36,
      "outputs": [
        {
          "output_type": "execute_result",
          "data": {
            "text/plain": [
              "array([1., 0., 1., 2., 0., 1., 2., 1., 0., 0., 0., 0., 0., 2., 2., 1., 1.,\n",
              "       0., 0., 1., 1., 0., 1., 2., 1., 0., 1., 1., 2., 1.])"
            ]
          },
          "metadata": {},
          "execution_count": 36
        }
      ]
    },
    {
      "cell_type": "code",
      "source": [
        "same=0\n",
        "for i in range(len(y_pred_sklearn)):\n",
        "  if y_pred_sklearn[i]==y_pred_scratch[i]:\n",
        "    same+=1\n",
        "print(\"accuracy is:\",(same/len(y_pred_sklearn))*100)"
      ],
      "metadata": {
        "colab": {
          "base_uri": "https://localhost:8080/"
        },
        "id": "OnGRTMoCS8TN",
        "outputId": "d1d7d2c4-d560-4b15-b17b-c0eec720d15d"
      },
      "execution_count": 34,
      "outputs": [
        {
          "output_type": "stream",
          "name": "stdout",
          "text": [
            "accuracy is: 83.33333333333334\n"
          ]
        }
      ]
    },
    {
      "cell_type": "code",
      "source": [
        "K = 7\n",
        "y_pred_scratch =KNN_from_scratch(X_train_normalized,X_test_normalized,y_train,K)\n",
        "\n",
        "print(y_pred_scratch)"
      ],
      "metadata": {
        "colab": {
          "base_uri": "https://localhost:8080/"
        },
        "id": "bcNvNbUkRGVg",
        "outputId": "7cb01898-44e1-4fee-8b85-117b14dd5a43"
      },
      "execution_count": 28,
      "outputs": [
        {
          "output_type": "stream",
          "name": "stdout",
          "text": [
            "[0.0, 0.0, 1.0, 2.0, 0.0, 0.0, 2.0, 1.0, 1.0, 0.0, 1.0, 1.0, 2.0, 2.0, 2.0, 0.0, 1.0, 2.0, 0.0, 0.0, 1.0, 2.0, 1.0, 2.0, 1.0, 0.0, 1.0, 0.0, 2.0, 1.0]\n"
          ]
        }
      ]
    },
    {
      "cell_type": "code",
      "source": [
        "from sklearn.neighbors import KNeighborsClassifier\n",
        "\n",
        "# Assuming you have your training data X_train and corresponding labels y_train\n",
        "# Assuming you have your test data X_test\n",
        "# Assuming you have your ground truth labels for test data y_test\n",
        "\n",
        "# Initialize kNN classifier\n",
        "  # You can set the number of neighbors as per your choice\n",
        "\n",
        "knn = KNeighborsClassifier(n_neighbors=7)\n",
        "knn.fit(X_train_normalized, y_train)\n",
        "# Fit the classifier to the training data\n",
        "\n",
        "knn\n",
        "# Predict the labels for the test data\n",
        "y_pred_sklearn = knn.predict(X_test_normalized)\n",
        "y_pred_sklearn\n",
        "# Calculate accuracy\n",
        "# accuracy = accuracy_score(y_test, y_pred_sklearn)\n",
        "# print(\"Accuracy:\", accuracy)"
      ],
      "metadata": {
        "colab": {
          "base_uri": "https://localhost:8080/"
        },
        "id": "phuAtY6zSqqL",
        "outputId": "733863d6-fb74-4366-a54a-c407ee133eea"
      },
      "execution_count": 32,
      "outputs": [
        {
          "output_type": "execute_result",
          "data": {
            "text/plain": [
              "array([0., 0., 1., 2., 0., 0., 2., 1., 1., 0., 1., 1., 2., 2., 2., 0., 1.,\n",
              "       2., 0., 0., 1., 2., 1., 2., 1., 0., 1., 0., 2., 1.])"
            ]
          },
          "metadata": {},
          "execution_count": 32
        }
      ]
    },
    {
      "cell_type": "code",
      "source": [
        "same=0\n",
        "for i in range(len(y_pred_sklearn)):\n",
        "  if y_pred_sklearn[i]==y_pred_scratch[i]:\n",
        "    same+=1\n",
        "print(\"accuracy is:\",(same/len(y_pred_sklearn))*100)"
      ],
      "metadata": {
        "colab": {
          "base_uri": "https://localhost:8080/"
        },
        "id": "qXp8ZDFMS3yh",
        "outputId": "b500e507-043f-4d05-c9b8-1acae86a724b"
      },
      "execution_count": 35,
      "outputs": [
        {
          "output_type": "stream",
          "name": "stdout",
          "text": [
            "accuracy is: 83.33333333333334\n"
          ]
        }
      ]
    },
    {
      "cell_type": "code",
      "source": [],
      "metadata": {
        "id": "Vre1nZh_TC7m"
      },
      "execution_count": null,
      "outputs": []
    }
  ]
}